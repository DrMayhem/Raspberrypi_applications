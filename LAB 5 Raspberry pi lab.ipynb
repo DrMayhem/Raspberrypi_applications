{
 "cells": [
  {
   "cell_type": "code",
   "execution_count": null,
   "id": "5158e999",
   "metadata": {},
   "outputs": [],
   "source": [
    "#Lab Assignment 5 By Umansh Agarwal CSE-IOT P1 RA2011032010024"
   ]
  },
  {
   "cell_type": "code",
   "execution_count": null,
   "id": "e6fc900d",
   "metadata": {},
   "outputs": [],
   "source": [
    "import RPi.GPIO as IO           \n",
    "import time                             \n",
    "IO.setmode (IO.BOARD)     \n",
    "IO.setup(38,IO.OUT)      \n",
    "IO.output(38,1)                     \n",
    "time.sleep(1)                       \n",
    "IO.cleanup()                        \n",
    "time.sleep(1)                          \n",
    "IO.setmode (IO.BOARD)\n",
    "IO.setup(38,IO.OUT)\n",
    "IO.output(38,1)\n",
    "time.sleep(1)\n",
    "IO.cleanup()\n",
    "time.sleep(1)\n",
    "IO.setmode (IO.BOARD)\n",
    "IO.setup(38,IO.OUT)\n",
    "IO.output(38,1)\n",
    "time.sleep(1)\n",
    "IO.cleanup()\n",
    "time.sleep(1)"
   ]
  }
 ],
 "metadata": {
  "kernelspec": {
   "display_name": "Python 3 (ipykernel)",
   "language": "python",
   "name": "python3"
  },
  "language_info": {
   "codemirror_mode": {
    "name": "ipython",
    "version": 3
   },
   "file_extension": ".py",
   "mimetype": "text/x-python",
   "name": "python",
   "nbconvert_exporter": "python",
   "pygments_lexer": "ipython3",
   "version": "3.9.7"
  }
 },
 "nbformat": 4,
 "nbformat_minor": 5
}
