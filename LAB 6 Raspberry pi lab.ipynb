{
 "cells": [
  {
   "cell_type": "code",
   "execution_count": null,
   "id": "e438ca49",
   "metadata": {},
   "outputs": [],
   "source": [
    "#Lab Assignment 6 By Umansh Agarwal CSE-IOT P1 RA2011032010024"
   ]
  },
  {
   "cell_type": "code",
   "execution_count": null,
   "id": "d7097336",
   "metadata": {},
   "outputs": [],
   "source": [
    "from bottle import route,run,request\n",
    "tempr=input(\"enter the temperature value:\")\n",
    "hum=input(\"enter the humidity:\")\n",
    "ws=input(\"enter the windspeed:\")\n",
    "rain=input(\"enter rainy or not:\")\n",
    "@route('/')\n",
    "def getsens():\n",
    "    sensor_log=[{'sensor':'Temperature','value':tempr},{'sensor':'humidity','value':hum}, {'sensor':'wind speed','value':ws},{'sensor':'rain','value':rain}]\n",
    "    return dict(data=sensor_log)\n",
    "run(host='localhost',port=7000,debug=True)"
   ]
  },
  {
   "cell_type": "code",
   "execution_count": null,
   "id": "4ca1d743",
   "metadata": {},
   "outputs": [],
   "source": [
    "import RPi.GPIO as GPIO\n",
    "from time import sleep\n",
    "\n",
    "GPIO.setmode(GPIO.BOARD)\n",
    "\n",
    "Motor1A = 16\n",
    "Motor1B = 18\n",
    "Motor1E = 22\n",
    "\n",
    "Motor2A = 23\n",
    "Motor2B = 21\n",
    "Motor2E = 19\n",
    "\n",
    "GPIO.setup(Motor1A,GPIO.OUT)\n",
    "GPIO.setup(Motor1B,GPIO.OUT)\n",
    "GPIO.setup(Motor1E,GPIO.OUT)\n",
    "\n",
    "GPIO.setup(Motor2A,GPIO.OUT)\n",
    "GPIO.setup(Motor2B,GPIO.OUT)\n",
    "GPIO.setup(Motor2E,GPIO.OUT)\n",
    "\n",
    "print \"Going forwards\"\n",
    "GPIO.output(Motor1A,GPIO.HIGH)\n",
    "GPIO.output(Motor1B,GPIO.LOW)\n",
    "GPIO.output(Motor1E,GPIO.HIGH)\n",
    "\n",
    "GPIO.output(Motor2A,GPIO.HIGH)\n",
    "GPIO.output(Motor2B,GPIO.LOW)\n",
    "GPIO.output(Motor2E,GPIO.HIGH)\n",
    "\n",
    "sleep(2)\n",
    "\n",
    "print \"Going backwards\"\n",
    "GPIO.output(Motor1A,GPIO.LOW)\n",
    "GPIO.output(Motor1B,GPIO.HIGH)\n",
    "GPIO.output(Motor1E,GPIO.HIGH)\n",
    "\n",
    "GPIO.output(Motor2A,GPIO.LOW)\n",
    "GPIO.output(Motor2B,GPIO.HIGH)\n",
    "GPIO.output(Motor2E,GPIO.HIGH)\n",
    "\n",
    "sleep(2)\n",
    "\n",
    "print \"Now stop\"\n",
    "GPIO.output(Motor1E,GPIO.LOW)\n",
    "GPIO.output(Motor2E,GPIO.LOW)\n",
    "\n",
    "GPIO.cleanup()"
   ]
  }
 ],
 "metadata": {
  "kernelspec": {
   "display_name": "Python 3 (ipykernel)",
   "language": "python",
   "name": "python3"
  },
  "language_info": {
   "codemirror_mode": {
    "name": "ipython",
    "version": 3
   },
   "file_extension": ".py",
   "mimetype": "text/x-python",
   "name": "python",
   "nbconvert_exporter": "python",
   "pygments_lexer": "ipython3",
   "version": "3.9.7"
  }
 },
 "nbformat": 4,
 "nbformat_minor": 5
}
